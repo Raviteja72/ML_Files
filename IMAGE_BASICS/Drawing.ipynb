{
 "cells": [
  {
   "cell_type": "code",
   "execution_count": null,
   "metadata": {},
   "outputs": [],
   "source": [
    "import numpy as np\n",
    "import cv2\n",
    "\n",
    "def draw_Circle(event,x,y,flags,param):\n",
    "    \n",
    "    \n",
    "    if event == cv2.EVENT_LBUTTONDOWN:\n",
    "        cv2.circle(img,(x,y),100,(0,255,0),10)\n",
    "\n",
    "\n",
    "cv2.namedWindow(winname='My_drawing')\n",
    "\n",
    "cv2.setMouseCallback('My_drawing',draw_Circle)\n",
    "\n",
    "\n",
    "\n",
    "\n",
    "\n",
    "\n",
    "img = np.zeros((512,512,3),dytpe=np.int8)\n",
    "\n",
    "while(True):\n",
    "    \n",
    "    cv2.imshow('My_drawing',img)\n",
    "    \n",
    "    if cv2.waitkey(0) & 0xFF == ord('q'):\n",
    "        break\n",
    "        \n",
    "\n",
    "cv2.destroyAllWindows()"
   ]
  },
  {
   "cell_type": "code",
   "execution_count": null,
   "metadata": {},
   "outputs": [],
   "source": []
  }
 ],
 "metadata": {
  "kernelspec": {
   "display_name": "Python 3",
   "language": "python",
   "name": "python3"
  },
  "language_info": {
   "codemirror_mode": {
    "name": "ipython",
    "version": 3
   },
   "file_extension": ".py",
   "mimetype": "text/x-python",
   "name": "python",
   "nbconvert_exporter": "python",
   "pygments_lexer": "ipython3",
   "version": "3.7.4"
  }
 },
 "nbformat": 4,
 "nbformat_minor": 4
}
