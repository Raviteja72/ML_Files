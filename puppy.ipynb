
import cv2

imgs = cv2.imread('JACK.jpg')

while(True):
    cv2.imshow('mypuppy',imgs)
    # if we wait 1 ms and we press the escape key
    if(cv2.waitKey(1)) & 0xFF == 27:
        break
        
        

cv2.destropyAllWindows()

