{
 "cells": [
  {
   "cell_type": "code",
   "execution_count": null,
   "metadata": {},
   "outputs": [],
   "source": [
    "import tensorflow as tf\n",
    "import numpy as np\n",
    "import datetime\n"
   ]
  },
  {
   "cell_type": "code",
   "execution_count": 2,
   "metadata": {},
   "outputs": [
    {
     "name": "stdout",
     "output_type": "stream",
     "text": [
      "Collecting package metadata (current_repodata.json): done\n",
      "Solving environment: failed with initial frozen solve. Retrying with flexible solve.\n",
      "Collecting package metadata (repodata.json): done\n",
      "Solving environment: failed with initial frozen solve. Retrying with flexible solve.\n",
      "\n",
      "PackagesNotFoundError: The following packages are not available from current channels:\n",
      "\n",
      "  - tensorflow=2.5.0\n",
      "\n",
      "Current channels:\n",
      "\n",
      "  - https://conda.anaconda.org/anaconda/osx-64\n",
      "  - https://conda.anaconda.org/anaconda/noarch\n",
      "  - https://repo.anaconda.com/pkgs/main/osx-64\n",
      "  - https://repo.anaconda.com/pkgs/main/noarch\n",
      "  - https://repo.anaconda.com/pkgs/r/osx-64\n",
      "  - https://repo.anaconda.com/pkgs/r/noarch\n",
      "\n",
      "To search for alternate channels that may provide the conda package you're\n",
      "looking for, navigate to\n",
      "\n",
      "    https://anaconda.org\n",
      "\n",
      "and use the search bar at the top of the page.\n",
      "\n",
      "\n",
      "\n",
      "Note: you may need to restart the kernel to use updated packages.\n"
     ]
    }
   ],
   "source": [
    "conda install -c anaconda tensorflow=2.5.0"
   ]
  },
  {
   "cell_type": "code",
   "execution_count": 3,
   "metadata": {},
   "outputs": [],
   "source": [
    "from tensorflow.keras.datasets import fashion_mnist"
   ]
  },
  {
   "cell_type": "code",
   "execution_count": 4,
   "metadata": {},
   "outputs": [
    {
     "name": "stdout",
     "output_type": "stream",
     "text": [
      "<module 'tensorflow.keras.datasets.fashion_mnist' from '/Users/apple/opt/anaconda3/lib/python3.7/site-packages/tensorflow/keras/datasets/fashion_mnist/__init__.py'>\n"
     ]
    }
   ],
   "source": [
    "print(fashion_mnist)"
   ]
  },
  {
   "cell_type": "code",
   "execution_count": 5,
   "metadata": {},
   "outputs": [],
   "source": [
    "(X_train,y_train), (X_test,y_test) = fashion_mnist.load_data()"
   ]
  },
  {
   "cell_type": "code",
   "execution_count": 6,
   "metadata": {},
   "outputs": [
    {
     "data": {
      "text/plain": [
       "(60000, 28, 28)"
      ]
     },
     "execution_count": 6,
     "metadata": {},
     "output_type": "execute_result"
    }
   ],
   "source": [
    "X_train.shape"
   ]
  },
  {
   "cell_type": "code",
   "execution_count": 7,
   "metadata": {},
   "outputs": [
    {
     "data": {
      "text/plain": [
       "(10000, 28, 28)"
      ]
     },
     "execution_count": 7,
     "metadata": {},
     "output_type": "execute_result"
    }
   ],
   "source": [
    "X_test.shape"
   ]
  },
  {
   "cell_type": "code",
   "execution_count": 8,
   "metadata": {},
   "outputs": [],
   "source": [
    "X_train = X_train/255.0"
   ]
  },
  {
   "cell_type": "code",
   "execution_count": 9,
   "metadata": {},
   "outputs": [],
   "source": [
    "X_test = X_test/255.0"
   ]
  },
  {
   "cell_type": "code",
   "execution_count": 10,
   "metadata": {},
   "outputs": [
    {
     "data": {
      "text/plain": [
       "(60000, 28, 28)"
      ]
     },
     "execution_count": 10,
     "metadata": {},
     "output_type": "execute_result"
    }
   ],
   "source": [
    "X_train.shape"
   ]
  },
  {
   "cell_type": "code",
   "execution_count": 11,
   "metadata": {},
   "outputs": [],
   "source": [
    "X_train = X_train.reshape(-1,28*28)"
   ]
  },
  {
   "cell_type": "code",
   "execution_count": 12,
   "metadata": {},
   "outputs": [],
   "source": [
    "X_test = X_test.reshape(-1,28*28)"
   ]
  },
  {
   "cell_type": "code",
   "execution_count": 13,
   "metadata": {},
   "outputs": [
    {
     "data": {
      "text/plain": [
       "(60000, 784)"
      ]
     },
     "execution_count": 13,
     "metadata": {},
     "output_type": "execute_result"
    }
   ],
   "source": [
    "X_train.shape"
   ]
  },
  {
   "cell_type": "code",
   "execution_count": 14,
   "metadata": {},
   "outputs": [
    {
     "data": {
      "text/plain": [
       "(10000, 784)"
      ]
     },
     "execution_count": 14,
     "metadata": {},
     "output_type": "execute_result"
    }
   ],
   "source": [
    "X_test.shape"
   ]
  },
  {
   "cell_type": "code",
   "execution_count": 15,
   "metadata": {},
   "outputs": [],
   "source": [
    "from tensorflow.keras.layers import Dense,Dropout"
   ]
  },
  {
   "cell_type": "code",
   "execution_count": 16,
   "metadata": {},
   "outputs": [],
   "source": [
    "model = tf.keras.models.Sequential()"
   ]
  },
  {
   "cell_type": "markdown",
   "metadata": {},
   "source": [
    "USING DROPOUT LAYER"
   ]
  },
  {
   "cell_type": "code",
   "execution_count": 17,
   "metadata": {},
   "outputs": [],
   "source": [
    "model.add(Dense(128,activation='relu',input_shape=(784,)))\n",
    "\n",
    "model.add(Dropout(0.2))\n",
    "\n",
    "model.add(Dense(10,activation='softmax'))\n",
    "\n",
    "\n",
    "model.compile(optimizer='adam',\n",
    "             loss='sparse_categorical_crossentropy',\n",
    "             metrics=['sparse_categorical_accuracy'])"
   ]
  },
  {
   "cell_type": "code",
   "execution_count": 18,
   "metadata": {},
   "outputs": [
    {
     "name": "stdout",
     "output_type": "stream",
     "text": [
      "Epoch 1/5\n",
      "469/469 [==============================] - 1s 3ms/step - loss: 0.5968 - sparse_categorical_accuracy: 0.7939 - val_loss: 0.4638 - val_sparse_categorical_accuracy: 0.8377\n",
      "Epoch 2/5\n",
      "469/469 [==============================] - 1s 3ms/step - loss: 0.4243 - sparse_categorical_accuracy: 0.8501 - val_loss: 0.4066 - val_sparse_categorical_accuracy: 0.8563\n",
      "Epoch 3/5\n",
      "469/469 [==============================] - 1s 2ms/step - loss: 0.3840 - sparse_categorical_accuracy: 0.8636 - val_loss: 0.3924 - val_sparse_categorical_accuracy: 0.8603\n",
      "Epoch 4/5\n",
      "469/469 [==============================] - 1s 2ms/step - loss: 0.3618 - sparse_categorical_accuracy: 0.8697 - val_loss: 0.3841 - val_sparse_categorical_accuracy: 0.8636\n",
      "Epoch 5/5\n",
      "469/469 [==============================] - 1s 2ms/step - loss: 0.3430 - sparse_categorical_accuracy: 0.8765 - val_loss: 0.3582 - val_sparse_categorical_accuracy: 0.8740\n"
     ]
    },
    {
     "data": {
      "text/plain": [
       "<tensorflow.python.keras.callbacks.History at 0x7f94c8c13a90>"
      ]
     },
     "execution_count": 18,
     "metadata": {},
     "output_type": "execute_result"
    }
   ],
   "source": [
    "model.fit(X_train,y_train,epochs=5,validation_data=(X_test,y_test),\n",
    "         batch_size=128)"
   ]
  },
  {
   "cell_type": "code",
   "execution_count": 19,
   "metadata": {},
   "outputs": [
    {
     "data": {
      "text/html": [
       "<div>\n",
       "<style scoped>\n",
       "    .dataframe tbody tr th:only-of-type {\n",
       "        vertical-align: middle;\n",
       "    }\n",
       "\n",
       "    .dataframe tbody tr th {\n",
       "        vertical-align: top;\n",
       "    }\n",
       "\n",
       "    .dataframe thead th {\n",
       "        text-align: right;\n",
       "    }\n",
       "</style>\n",
       "<table border=\"1\" class=\"dataframe\">\n",
       "  <thead>\n",
       "    <tr style=\"text-align: right;\">\n",
       "      <th></th>\n",
       "      <th>loss</th>\n",
       "      <th>sparse_categorical_accuracy</th>\n",
       "      <th>val_loss</th>\n",
       "      <th>val_sparse_categorical_accuracy</th>\n",
       "    </tr>\n",
       "  </thead>\n",
       "  <tbody>\n",
       "    <tr>\n",
       "      <td>0</td>\n",
       "      <td>0.596798</td>\n",
       "      <td>0.793917</td>\n",
       "      <td>0.463757</td>\n",
       "      <td>0.8377</td>\n",
       "    </tr>\n",
       "    <tr>\n",
       "      <td>1</td>\n",
       "      <td>0.424321</td>\n",
       "      <td>0.850083</td>\n",
       "      <td>0.406644</td>\n",
       "      <td>0.8563</td>\n",
       "    </tr>\n",
       "    <tr>\n",
       "      <td>2</td>\n",
       "      <td>0.384008</td>\n",
       "      <td>0.863567</td>\n",
       "      <td>0.392413</td>\n",
       "      <td>0.8603</td>\n",
       "    </tr>\n",
       "    <tr>\n",
       "      <td>3</td>\n",
       "      <td>0.361804</td>\n",
       "      <td>0.869717</td>\n",
       "      <td>0.384119</td>\n",
       "      <td>0.8636</td>\n",
       "    </tr>\n",
       "    <tr>\n",
       "      <td>4</td>\n",
       "      <td>0.343030</td>\n",
       "      <td>0.876500</td>\n",
       "      <td>0.358242</td>\n",
       "      <td>0.8740</td>\n",
       "    </tr>\n",
       "  </tbody>\n",
       "</table>\n",
       "</div>"
      ],
      "text/plain": [
       "       loss  sparse_categorical_accuracy  val_loss  \\\n",
       "0  0.596798                     0.793917  0.463757   \n",
       "1  0.424321                     0.850083  0.406644   \n",
       "2  0.384008                     0.863567  0.392413   \n",
       "3  0.361804                     0.869717  0.384119   \n",
       "4  0.343030                     0.876500  0.358242   \n",
       "\n",
       "   val_sparse_categorical_accuracy  \n",
       "0                           0.8377  \n",
       "1                           0.8563  \n",
       "2                           0.8603  \n",
       "3                           0.8636  \n",
       "4                           0.8740  "
      ]
     },
     "execution_count": 19,
     "metadata": {},
     "output_type": "execute_result"
    }
   ],
   "source": [
    "import pandas as pd\n",
    "df = pd.DataFrame(model.history.history)\n",
    "df"
   ]
  },
  {
   "cell_type": "code",
   "execution_count": 36,
   "metadata": {},
   "outputs": [
    {
     "data": {
      "text/plain": [
       "<matplotlib.axes._subplots.AxesSubplot at 0x7f94cdcf2150>"
      ]
     },
     "execution_count": 36,
     "metadata": {},
     "output_type": "execute_result"
    },
    {
     "data": {
      "image/png": "[encoded data removed]",
      "text/plain": [
       "<Figure size 432x288 with 1 Axes>"
      ]
     },
     "metadata": {
      "needs_background": "light"
     },
     "output_type": "display_data"
    }
   ],
   "source": [
    "df[['loss','val_loss']].plot()"
   ]
  },
  {
   "cell_type": "code",
   "execution_count": 21,
   "metadata": {},
   "outputs": [
    {
     "data": {
      "text/plain": [
       "<matplotlib.axes._subplots.AxesSubplot at 0x7f94c9d46e10>"
      ]
     },
     "execution_count": 21,
     "metadata": {},
     "output_type": "execute_result"
    },
    {
     "data": {
      "image/png": "[encoded data removed]",
      "text/plain": [
       "<Figure size 432x288 with 1 Axes>"
      ]
     },
     "metadata": {
      "needs_background": "light"
     },
     "output_type": "display_data"
    }
   ],
   "source": [
    "df[['sparse_categorical_accuracy','val_sparse_categorical_accuracy']].plot()"
   ]
  },
  {
   "cell_type": "code",
   "execution_count": 22,
   "metadata": {},
   "outputs": [
    {
     "name": "stdout",
     "output_type": "stream",
     "text": [
      "313/313 [==============================] - 0s 1ms/step - loss: 0.3582 - sparse_categorical_accuracy: 0.8740\n",
      "0.3582415282726288 \n",
      " 0.8740000128746033\n"
     ]
    }
   ],
   "source": [
    "loss,accuracy = model.evaluate(X_test,y_test)\n",
    "print(loss,\"\\n\",accuracy)"
   ]
  },
  {
   "cell_type": "code",
   "execution_count": 23,
   "metadata": {},
   "outputs": [
    {
     "name": "stdout",
     "output_type": "stream",
     "text": [
      "WARNING:tensorflow:From <ipython-input-23-a3e3e5c68c66>:1: Sequential.predict_classes (from tensorflow.python.keras.engine.sequential) is deprecated and will be removed after 2021-01-01.\n",
      "Instructions for updating:\n",
      "Please use instead:* `np.argmax(model.predict(x), axis=-1)`,   if your model does multi-class classification   (e.g. if it uses a `softmax` last-layer activation).* `(model.predict(x) > 0.5).astype(\"int32\")`,   if your model does binary classification   (e.g. if it uses a `sigmoid` last-layer activation).\n"
     ]
    }
   ],
   "source": [
    "pred = model.predict_classes(X_test)"
   ]
  },
  {
   "cell_type": "code",
   "execution_count": 24,
   "metadata": {},
   "outputs": [],
   "source": [
    "from sklearn.metrics import classification_report,confusion_matrix"
   ]
  },
  {
   "cell_type": "code",
   "execution_count": 25,
   "metadata": {},
   "outputs": [
    {
     "name": "stdout",
     "output_type": "stream",
     "text": [
      "[[811   3  11  23   6   0 135   1  10   0]\n",
      " [  2 969   0  19   5   0   4   0   1   0]\n",
      " [ 16   3 758   6 122   0  94   0   1   0]\n",
      " [ 24  15  10 861  47   0  38   0   5   0]\n",
      " [  0   1  78  24 828   0  67   0   2   0]\n",
      " [  0   0   0   1   0 935   0  39   2  23]\n",
      " [102   2  76  27  79   0 705   0   9   0]\n",
      " [  0   0   0   0   0  20   0 947   0  33]\n",
      " [  3   1   2   5   5   2  11   5 966   0]\n",
      " [  0   0   0   0   0   2   1  37   0 960]]\n"
     ]
    }
   ],
   "source": [
    "print(confusion_matrix(y_test,pred))"
   ]
  },
  {
   "cell_type": "code",
   "execution_count": 26,
   "metadata": {},
   "outputs": [
    {
     "name": "stdout",
     "output_type": "stream",
     "text": [
      "              precision    recall  f1-score   support\n",
      "\n",
      "           0       0.85      0.81      0.83      1000\n",
      "           1       0.97      0.97      0.97      1000\n",
      "           2       0.81      0.76      0.78      1000\n",
      "           3       0.89      0.86      0.88      1000\n",
      "           4       0.76      0.83      0.79      1000\n",
      "           5       0.97      0.94      0.95      1000\n",
      "           6       0.67      0.70      0.69      1000\n",
      "           7       0.92      0.95      0.93      1000\n",
      "           8       0.97      0.97      0.97      1000\n",
      "           9       0.94      0.96      0.95      1000\n",
      "\n",
      "    accuracy                           0.87     10000\n",
      "   macro avg       0.88      0.87      0.87     10000\n",
      "weighted avg       0.88      0.87      0.87     10000\n",
      "\n"
     ]
    }
   ],
   "source": [
    "print(classification_report(y_test,pred))"
   ]
  },
  {
   "cell_type": "markdown",
   "metadata": {},
   "source": [
    "USING CALLBACKS - EARLYSTOPPING"
   ]
  },
  {
   "cell_type": "code",
   "execution_count": 27,
   "metadata": {},
   "outputs": [],
   "source": [
    "from tensorflow.keras.callbacks import EarlyStopping"
   ]
  },
  {
   "cell_type": "code",
   "execution_count": 28,
   "metadata": {},
   "outputs": [],
   "source": [
    "early_stop = EarlyStopping(monitor='val_loss',mode='min',verbose=1,\n",
    "                          patience=10)"
   ]
  },
  {
   "cell_type": "code",
   "execution_count": 29,
   "metadata": {},
   "outputs": [],
   "source": [
    "model.add(Dense(128,activation='relu',input_shape=(784,)))\n",
    "model.add(Dense(64,activation='relu'))\n",
    "#model.add(Dropout(0.2))\n",
    "\n",
    "model.add(Dense(10,activation='softmax'))\n",
    "\n",
    "\n",
    "model.compile(optimizer='adam',\n",
    "             loss='sparse_categorical_crossentropy',\n",
    "             metrics=['sparse_categorical_accuracy'])"
   ]
  },
  {
   "cell_type": "code",
   "execution_count": 30,
   "metadata": {},
   "outputs": [
    {
     "name": "stdout",
     "output_type": "stream",
     "text": [
      "Epoch 1/15\n",
      "469/469 [==============================] - 2s 4ms/step - loss: 0.5900 - sparse_categorical_accuracy: 0.8439 - val_loss: 0.3948 - val_sparse_categorical_accuracy: 0.8647\n",
      "Epoch 2/15\n",
      "469/469 [==============================] - 2s 4ms/step - loss: 0.3474 - sparse_categorical_accuracy: 0.8772 - val_loss: 0.3734 - val_sparse_categorical_accuracy: 0.8712\n",
      "Epoch 3/15\n",
      "469/469 [==============================] - 1s 3ms/step - loss: 0.3358 - sparse_categorical_accuracy: 0.8811 - val_loss: 0.3565 - val_sparse_categorical_accuracy: 0.8784\n",
      "Epoch 4/15\n",
      "469/469 [==============================] - 1s 3ms/step - loss: 0.3211 - sparse_categorical_accuracy: 0.8846 - val_loss: 0.3489 - val_sparse_categorical_accuracy: 0.8775\n",
      "Epoch 5/15\n",
      "469/469 [==============================] - 1s 3ms/step - loss: 0.3107 - sparse_categorical_accuracy: 0.8898 - val_loss: 0.3596 - val_sparse_categorical_accuracy: 0.8748\n",
      "Epoch 6/15\n",
      "469/469 [==============================] - 1s 2ms/step - loss: 0.3036 - sparse_categorical_accuracy: 0.8913 - val_loss: 0.3541 - val_sparse_categorical_accuracy: 0.8787\n",
      "Epoch 7/15\n",
      "469/469 [==============================] - 1s 2ms/step - loss: 0.2977 - sparse_categorical_accuracy: 0.8924 - val_loss: 0.3495 - val_sparse_categorical_accuracy: 0.8770\n",
      "Epoch 8/15\n",
      "469/469 [==============================] - 1s 3ms/step - loss: 0.2890 - sparse_categorical_accuracy: 0.8962 - val_loss: 0.3458 - val_sparse_categorical_accuracy: 0.8798\n",
      "Epoch 9/15\n",
      "469/469 [==============================] - 1s 2ms/step - loss: 0.2843 - sparse_categorical_accuracy: 0.8959 - val_loss: 0.3435 - val_sparse_categorical_accuracy: 0.8838\n",
      "Epoch 10/15\n",
      "469/469 [==============================] - 1s 3ms/step - loss: 0.2785 - sparse_categorical_accuracy: 0.9012 - val_loss: 0.3372 - val_sparse_categorical_accuracy: 0.8852\n",
      "Epoch 11/15\n",
      "469/469 [==============================] - 2s 3ms/step - loss: 0.2731 - sparse_categorical_accuracy: 0.9007 - val_loss: 0.3277 - val_sparse_categorical_accuracy: 0.8874\n",
      "Epoch 12/15\n",
      "469/469 [==============================] - 2s 3ms/step - loss: 0.2702 - sparse_categorical_accuracy: 0.9024 - val_loss: 0.3349 - val_sparse_categorical_accuracy: 0.8858\n",
      "Epoch 13/15\n",
      "469/469 [==============================] - 2s 5ms/step - loss: 0.2694 - sparse_categorical_accuracy: 0.9026 - val_loss: 0.3343 - val_sparse_categorical_accuracy: 0.8879\n",
      "Epoch 14/15\n",
      "469/469 [==============================] - 1s 3ms/step - loss: 0.2601 - sparse_categorical_accuracy: 0.9057 - val_loss: 0.3368 - val_sparse_categorical_accuracy: 0.8835\n",
      "Epoch 15/15\n",
      "469/469 [==============================] - 1s 2ms/step - loss: 0.2574 - sparse_categorical_accuracy: 0.9053 - val_loss: 0.3516 - val_sparse_categorical_accuracy: 0.8765\n"
     ]
    },
    {
     "data": {
      "text/plain": [
       "<tensorflow.python.keras.callbacks.History at 0x7f94d1673190>"
      ]
     },
     "execution_count": 30,
     "metadata": {},
     "output_type": "execute_result"
    }
   ],
   "source": [
    "model.fit(X_train,y_train,validation_data=(X_test,y_test),\n",
    "         epochs=15,\n",
    "         callbacks=[early_stop],\n",
    "         batch_size=128)"
   ]
  },
  {
   "cell_type": "code",
   "execution_count": 31,
   "metadata": {},
   "outputs": [],
   "source": [
    "df1 = pd.DataFrame(model.history.history)"
   ]
  },
  {
   "cell_type": "code",
   "execution_count": 32,
   "metadata": {},
   "outputs": [
    {
     "data": {
      "text/html": [
       "<div>\n",
       "<style scoped>\n",
       "    .dataframe tbody tr th:only-of-type {\n",
       "        vertical-align: middle;\n",
       "    }\n",
       "\n",
       "    .dataframe tbody tr th {\n",
       "        vertical-align: top;\n",
       "    }\n",
       "\n",
       "    .dataframe thead th {\n",
       "        text-align: right;\n",
       "    }\n",
       "</style>\n",
       "<table border=\"1\" class=\"dataframe\">\n",
       "  <thead>\n",
       "    <tr style=\"text-align: right;\">\n",
       "      <th></th>\n",
       "      <th>loss</th>\n",
       "      <th>sparse_categorical_accuracy</th>\n",
       "      <th>val_loss</th>\n",
       "      <th>val_sparse_categorical_accuracy</th>\n",
       "    </tr>\n",
       "  </thead>\n",
       "  <tbody>\n",
       "    <tr>\n",
       "      <td>0</td>\n",
       "      <td>0.590013</td>\n",
       "      <td>0.843950</td>\n",
       "      <td>0.394827</td>\n",
       "      <td>0.8647</td>\n",
       "    </tr>\n",
       "    <tr>\n",
       "      <td>1</td>\n",
       "      <td>0.347372</td>\n",
       "      <td>0.877200</td>\n",
       "      <td>0.373367</td>\n",
       "      <td>0.8712</td>\n",
       "    </tr>\n",
       "    <tr>\n",
       "      <td>2</td>\n",
       "      <td>0.335770</td>\n",
       "      <td>0.881117</td>\n",
       "      <td>0.356527</td>\n",
       "      <td>0.8784</td>\n",
       "    </tr>\n",
       "    <tr>\n",
       "      <td>3</td>\n",
       "      <td>0.321069</td>\n",
       "      <td>0.884583</td>\n",
       "      <td>0.348891</td>\n",
       "      <td>0.8775</td>\n",
       "    </tr>\n",
       "    <tr>\n",
       "      <td>4</td>\n",
       "      <td>0.310746</td>\n",
       "      <td>0.889833</td>\n",
       "      <td>0.359601</td>\n",
       "      <td>0.8748</td>\n",
       "    </tr>\n",
       "    <tr>\n",
       "      <td>5</td>\n",
       "      <td>0.303557</td>\n",
       "      <td>0.891333</td>\n",
       "      <td>0.354105</td>\n",
       "      <td>0.8787</td>\n",
       "    </tr>\n",
       "    <tr>\n",
       "      <td>6</td>\n",
       "      <td>0.297733</td>\n",
       "      <td>0.892450</td>\n",
       "      <td>0.349527</td>\n",
       "      <td>0.8770</td>\n",
       "    </tr>\n",
       "    <tr>\n",
       "      <td>7</td>\n",
       "      <td>0.288954</td>\n",
       "      <td>0.896167</td>\n",
       "      <td>0.345814</td>\n",
       "      <td>0.8798</td>\n",
       "    </tr>\n",
       "    <tr>\n",
       "      <td>8</td>\n",
       "      <td>0.284266</td>\n",
       "      <td>0.895917</td>\n",
       "      <td>0.343470</td>\n",
       "      <td>0.8838</td>\n",
       "    </tr>\n",
       "    <tr>\n",
       "      <td>9</td>\n",
       "      <td>0.278484</td>\n",
       "      <td>0.901167</td>\n",
       "      <td>0.337165</td>\n",
       "      <td>0.8852</td>\n",
       "    </tr>\n",
       "    <tr>\n",
       "      <td>10</td>\n",
       "      <td>0.273144</td>\n",
       "      <td>0.900667</td>\n",
       "      <td>0.327692</td>\n",
       "      <td>0.8874</td>\n",
       "    </tr>\n",
       "    <tr>\n",
       "      <td>11</td>\n",
       "      <td>0.270176</td>\n",
       "      <td>0.902400</td>\n",
       "      <td>0.334942</td>\n",
       "      <td>0.8858</td>\n",
       "    </tr>\n",
       "    <tr>\n",
       "      <td>12</td>\n",
       "      <td>0.269380</td>\n",
       "      <td>0.902633</td>\n",
       "      <td>0.334316</td>\n",
       "      <td>0.8879</td>\n",
       "    </tr>\n",
       "    <tr>\n",
       "      <td>13</td>\n",
       "      <td>0.260100</td>\n",
       "      <td>0.905650</td>\n",
       "      <td>0.336777</td>\n",
       "      <td>0.8835</td>\n",
       "    </tr>\n",
       "    <tr>\n",
       "      <td>14</td>\n",
       "      <td>0.257401</td>\n",
       "      <td>0.905283</td>\n",
       "      <td>0.351609</td>\n",
       "      <td>0.8765</td>\n",
       "    </tr>\n",
       "  </tbody>\n",
       "</table>\n",
       "</div>"
      ],
      "text/plain": [
       "        loss  sparse_categorical_accuracy  val_loss  \\\n",
       "0   0.590013                     0.843950  0.394827   \n",
       "1   0.347372                     0.877200  0.373367   \n",
       "2   0.335770                     0.881117  0.356527   \n",
       "3   0.321069                     0.884583  0.348891   \n",
       "4   0.310746                     0.889833  0.359601   \n",
       "5   0.303557                     0.891333  0.354105   \n",
       "6   0.297733                     0.892450  0.349527   \n",
       "7   0.288954                     0.896167  0.345814   \n",
       "8   0.284266                     0.895917  0.343470   \n",
       "9   0.278484                     0.901167  0.337165   \n",
       "10  0.273144                     0.900667  0.327692   \n",
       "11  0.270176                     0.902400  0.334942   \n",
       "12  0.269380                     0.902633  0.334316   \n",
       "13  0.260100                     0.905650  0.336777   \n",
       "14  0.257401                     0.905283  0.351609   \n",
       "\n",
       "    val_sparse_categorical_accuracy  \n",
       "0                            0.8647  \n",
       "1                            0.8712  \n",
       "2                            0.8784  \n",
       "3                            0.8775  \n",
       "4                            0.8748  \n",
       "5                            0.8787  \n",
       "6                            0.8770  \n",
       "7                            0.8798  \n",
       "8                            0.8838  \n",
       "9                            0.8852  \n",
       "10                           0.8874  \n",
       "11                           0.8858  \n",
       "12                           0.8879  \n",
       "13                           0.8835  \n",
       "14                           0.8765  "
      ]
     },
     "execution_count": 32,
     "metadata": {},
     "output_type": "execute_result"
    }
   ],
   "source": [
    "df1"
   ]
  },
  {
   "cell_type": "code",
   "execution_count": 33,
   "metadata": {},
   "outputs": [
    {
     "data": {
      "text/plain": [
       "<matplotlib.axes._subplots.AxesSubplot at 0x7f94dd8f8490>"
      ]
     },
     "execution_count": 33,
     "metadata": {},
     "output_type": "execute_result"
    },
    {
     "data": {
      "image/png": "[encoded data removed]",
      "text/plain": [
       "<Figure size 432x288 with 1 Axes>"
      ]
     },
     "metadata": {
      "needs_background": "light"
     },
     "output_type": "display_data"
    }
   ],
   "source": [
    "df1[['loss','val_loss']].plot()"
   ]
  },
  {
   "cell_type": "code",
   "execution_count": 34,
   "metadata": {},
   "outputs": [
    {
     "data": {
      "text/plain": [
       "<matplotlib.axes._subplots.AxesSubplot at 0x7f94dd8f0b10>"
      ]
     },
     "execution_count": 34,
     "metadata": {},
     "output_type": "execute_result"
    },
    {
     "data": {
      "image/png": "[encoded data removed]",
      "text/plain": [
       "<Figure size 432x288 with 1 Axes>"
      ]
     },
     "metadata": {
      "needs_background": "light"
     },
     "output_type": "display_data"
    }
   ],
   "source": [
    "df[['sparse_categorical_accuracy','val_sparse_categorical_accuracy']].plot()"
   ]
  },
  {
   "cell_type": "code",
   "execution_count": 35,
   "metadata": {},
   "outputs": [
    {
     "name": "stdout",
     "output_type": "stream",
     "text": [
      "313/313 [==============================] - 0s 894us/step - loss: 0.3516 - sparse_categorical_accuracy: 0.8765\n",
      "0.3516092896461487 \n",
      " 0.8765000104904175\n"
     ]
    }
   ],
   "source": [
    "tes1,acc1 = model.evaluate(X_test,y_test)\n",
    "print(tes1,'\\n',acc1)"
   ]
  },
  {
   "cell_type": "code",
   "execution_count": null,
   "metadata": {},
   "outputs": [],
   "source": []
  },
  {
   "cell_type": "code",
   "execution_count": null,
   "metadata": {},
   "outputs": [],
   "source": []
  }
 ],
 "metadata": {
  "kernelspec": {
   "display_name": "Python 3",
   "language": "python",
   "name": "python3"
  },
  "language_info": {
   "codemirror_mode": {
    "name": "ipython",
    "version": 3
   },
   "file_extension": ".py",
   "mimetype": "text/x-python",
   "name": "python",
   "nbconvert_exporter": "python",
   "pygments_lexer": "ipython3",
   "version": "3.7.4"
  }
 },
 "nbformat": 4,
 "nbformat_minor": 2
}
